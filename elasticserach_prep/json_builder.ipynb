{
  "cells": [
    {
      "cell_type": "markdown",
      "metadata": {
        "id": "vhzjT4z0m_tW"
      },
      "source": [
        "Sentiment Enhanced Food Search Engine - 'Favorfeel'"
      ]
    },
    {
      "cell_type": "markdown",
      "metadata": {
        "id": "d8xCy-VemY8z"
      },
      "source": [
        "Data Preprocessing\n",
        "1. Text Preprocessing:\n",
        "2. Convert text to lowercase.\n",
        "3. Remove punctuation and special characters.\n",
        "4. Tokenization: Split text into words.\n",
        "5. Remove stop words.\n",
        "6. Lemmatization or stemming."
      ]
    },
    {
      "cell_type": "code",
      "execution_count": 73,
      "metadata": {
        "colab": {
          "base_uri": "https://localhost:8080/"
        },
        "id": "23fIKbfAmaZT",
        "outputId": "1eb9d600-ea14-4ec5-90ec-f6f7decd28ad"
      },
      "outputs": [
        {
          "output_type": "stream",
          "name": "stderr",
          "text": [
            "[nltk_data] Downloading package stopwords to /root/nltk_data...\n",
            "[nltk_data]   Package stopwords is already up-to-date!\n",
            "[nltk_data] Downloading package punkt to /root/nltk_data...\n",
            "[nltk_data]   Package punkt is already up-to-date!\n",
            "[nltk_data] Downloading package wordnet to /root/nltk_data...\n",
            "[nltk_data]   Package wordnet is already up-to-date!\n"
          ]
        }
      ],
      "source": [
        "import pandas as pd\n",
        "import re\n",
        "import nltk\n",
        "from nltk.corpus import stopwords\n",
        "from nltk.tokenize import word_tokenize\n",
        "from nltk.stem import WordNetLemmatizer\n",
        "\n",
        "nltk.download('stopwords')\n",
        "nltk.download('punkt')\n",
        "nltk.download('wordnet')\n",
        "\n",
        "def text_preprocessing(text):\n",
        "    text = text.lower()  # Convert to lowercase\n",
        "    text = re.sub(r'\\W', ' ', text)  # Remove punctuation and special characters\n",
        "    tokens = word_tokenize(text)  # Tokenization\n",
        "    stop_words = set(stopwords.words('english'))\n",
        "    tokens = [word for word in tokens if word not in stop_words]  # Remove stop words\n",
        "    lemmatizer = WordNetLemmatizer()\n",
        "    tokens = [lemmatizer.lemmatize(word) for word in tokens]  # Lemmatization\n",
        "    return ' '.join(tokens)\n",
        "\n",
        "# Load dataset\n",
        "# from google.colab import drive\n",
        "# drive.mount('/content/drive')\n",
        "# data = pd.read_csv('/content/drive/MyDrive/Implementation 2024 Final Year Project/output_1.csv')\n",
        "data = pd.read_csv('output_1.csv')\n",
        "\n",
        "# Apply text preprocessing to 'Review' column\n",
        "data['Comment'] = data['Comment'].apply(text_preprocessing)"
      ]
    },
    {
      "cell_type": "code",
      "execution_count": 74,
      "metadata": {
        "colab": {
          "base_uri": "https://localhost:8080/"
        },
        "id": "P35rRGSK2jAT",
        "outputId": "b4f5a1d1-ea9f-4035-ef5d-27ff9a751675"
      },
      "outputs": [
        {
          "output_type": "stream",
          "name": "stdout",
          "text": [
            "4922    wifi yesambiance 7 10taste meter 6 5 10price e...\n",
            "4923    love first bite since 1st visit place everytim...\n",
            "4924    one best place burger love place taste staff p...\n",
            "4925    sauce biggies us spectacular burger worth mone...\n",
            "4926    exquisite place burger ambience unique kid fri...\n",
            "Name: Comment, dtype: object\n"
          ]
        }
      ],
      "source": [
        "# print preprocessed data\n",
        "\n",
        "print(data['Comment'].tail())\n"
      ]
    },
    {
      "cell_type": "markdown",
      "metadata": {
        "id": "JS9NMGhjmjX7"
      },
      "source": [
        "# Build Vocabulary:\n",
        "Create a vocabulary from the tokenized words in the reviews."
      ]
    },
    {
      "cell_type": "code",
      "execution_count": 75,
      "metadata": {
        "id": "3YOYXe0Amnrf"
      },
      "outputs": [],
      "source": [
        "from collections import Counter\n",
        "\n",
        "# Build vocabulary\n",
        "all_words = ' '.join(data['Comment']).split()\n",
        "word_counts = Counter(all_words)\n",
        "vocabulary = list(word_counts.keys())"
      ]
    },
    {
      "cell_type": "markdown",
      "metadata": {
        "id": "rbfj1a3tmsl2"
      },
      "source": [
        "# Vectorization:\n",
        "Convert text into numerical format using techniques like Bag of Words or TF-IDF."
      ]
    },
    {
      "cell_type": "code",
      "execution_count": 76,
      "metadata": {
        "id": "44RV08rqmvou"
      },
      "outputs": [],
      "source": [
        "from sklearn.feature_extraction.text import TfidfVectorizer\n",
        "\n",
        "# Vectorization using TF-IDF\n",
        "tfidf_vectorizer = TfidfVectorizer(vocabulary=vocabulary)\n",
        "X = tfidf_vectorizer.fit_transform(data['Comment'])\n",
        "y = data['Rating']"
      ]
    },
    {
      "cell_type": "code",
      "execution_count": 77,
      "metadata": {
        "colab": {
          "base_uri": "https://localhost:8080/"
        },
        "id": "6V1UP-nrqKDd",
        "outputId": "f94890d0-4576-43f8-fdc0-189e9e58cdde"
      },
      "outputs": [
        {
          "output_type": "execute_result",
          "data": {
            "text/plain": [
              "<4927x9086 sparse matrix of type '<class 'numpy.float64'>'\n",
              "\twith 109640 stored elements in Compressed Sparse Row format>"
            ]
          },
          "metadata": {},
          "execution_count": 77
        }
      ],
      "source": [
        "X"
      ]
    },
    {
      "cell_type": "code",
      "execution_count": 78,
      "metadata": {
        "colab": {
          "base_uri": "https://localhost:8080/"
        },
        "id": "FyS1-FgUqVai",
        "outputId": "8abc144d-c80d-432c-c873-e015e9b9f86c"
      },
      "outputs": [
        {
          "output_type": "execute_result",
          "data": {
            "text/plain": [
              "0       5.0\n",
              "1       3.0\n",
              "2       1.0\n",
              "3       4.0\n",
              "4       1.0\n",
              "       ... \n",
              "4922    4.0\n",
              "4923    5.0\n",
              "4924    5.0\n",
              "4925    5.0\n",
              "4926    5.0\n",
              "Name: Rating, Length: 4927, dtype: float64"
            ]
          },
          "metadata": {},
          "execution_count": 78
        }
      ],
      "source": [
        "y"
      ]
    },
    {
      "cell_type": "markdown",
      "metadata": {
        "id": "d4B0EnDIm0wZ"
      },
      "source": [
        "# Handle Imbalanced Dataset:\n",
        "Since the dataset is imbalanced, we can use techniques like oversampling or undersampling."
      ]
    },
    {
      "cell_type": "code",
      "execution_count": 79,
      "metadata": {
        "colab": {
          "base_uri": "https://localhost:8080/"
        },
        "id": "Scf4zmKHq_KY",
        "outputId": "2fa83c31-0f29-433e-e428-2bb70a1146bd"
      },
      "outputs": [
        {
          "output_type": "stream",
          "name": "stdout",
          "text": [
            "float64\n"
          ]
        }
      ],
      "source": [
        "print(y.dtype)"
      ]
    },
    {
      "cell_type": "code",
      "execution_count": 80,
      "metadata": {
        "colab": {
          "base_uri": "https://localhost:8080/"
        },
        "id": "3RjasMK5rBPq",
        "outputId": "f4f6032b-971c-4bcb-ab48-5c554cb6fdf0"
      },
      "outputs": [
        {
          "output_type": "stream",
          "name": "stdout",
          "text": [
            "4922    4.0\n",
            "4923    5.0\n",
            "4924    5.0\n",
            "4925    5.0\n",
            "4926    5.0\n",
            "Name: Rating, dtype: float64\n"
          ]
        }
      ],
      "source": [
        "print(y.tail())"
      ]
    },
    {
      "cell_type": "code",
      "execution_count": 81,
      "metadata": {
        "id": "R8VY3HWvrI-W"
      },
      "outputs": [],
      "source": [
        "from sklearn.preprocessing import LabelEncoder\n",
        "from imblearn.over_sampling import SMOTE\n",
        "\n",
        "le = LabelEncoder()\n",
        "y_encoded = le.fit_transform(y)"
      ]
    },
    {
      "cell_type": "code",
      "execution_count": 82,
      "metadata": {
        "id": "2RXfDKXXrKfw"
      },
      "outputs": [],
      "source": [
        "smote = SMOTE(random_state=42)\n",
        "X_resampled, y_resampled = smote.fit_resample(X, y_encoded)"
      ]
    },
    {
      "cell_type": "code",
      "execution_count": 83,
      "metadata": {
        "id": "xvP4vPdGm2ob"
      },
      "outputs": [],
      "source": [
        "# from imblearn.over_sampling import RandomOverSampler\n",
        "\n",
        "# # Handle imbalanced dataset using RandomOverSampler\n",
        "# ros = RandomOverSampler(random_state=42)\n",
        "# X_resampled, y_resampled = ros.fit_resample(X, y)"
      ]
    },
    {
      "cell_type": "markdown",
      "metadata": {
        "id": "u-StnzEqm900"
      },
      "source": [
        "# Model Building"
      ]
    },
    {
      "cell_type": "code",
      "execution_count": 84,
      "metadata": {
        "colab": {
          "base_uri": "https://localhost:8080/"
        },
        "id": "_-P4JUbhnD5M",
        "outputId": "87c8097f-a4c3-4147-80c0-d1ecc9e01302"
      },
      "outputs": [
        {
          "output_type": "stream",
          "name": "stdout",
          "text": [
            "Requirement already satisfied: seaborn in /usr/local/lib/python3.10/dist-packages (0.13.1)\n",
            "Requirement already satisfied: numpy!=1.24.0,>=1.20 in /usr/local/lib/python3.10/dist-packages (from seaborn) (1.25.2)\n",
            "Requirement already satisfied: pandas>=1.2 in /usr/local/lib/python3.10/dist-packages (from seaborn) (2.0.3)\n",
            "Requirement already satisfied: matplotlib!=3.6.1,>=3.4 in /usr/local/lib/python3.10/dist-packages (from seaborn) (3.7.1)\n",
            "Requirement already satisfied: contourpy>=1.0.1 in /usr/local/lib/python3.10/dist-packages (from matplotlib!=3.6.1,>=3.4->seaborn) (1.2.1)\n",
            "Requirement already satisfied: cycler>=0.10 in /usr/local/lib/python3.10/dist-packages (from matplotlib!=3.6.1,>=3.4->seaborn) (0.12.1)\n",
            "Requirement already satisfied: fonttools>=4.22.0 in /usr/local/lib/python3.10/dist-packages (from matplotlib!=3.6.1,>=3.4->seaborn) (4.51.0)\n",
            "Requirement already satisfied: kiwisolver>=1.0.1 in /usr/local/lib/python3.10/dist-packages (from matplotlib!=3.6.1,>=3.4->seaborn) (1.4.5)\n",
            "Requirement already satisfied: packaging>=20.0 in /usr/local/lib/python3.10/dist-packages (from matplotlib!=3.6.1,>=3.4->seaborn) (24.0)\n",
            "Requirement already satisfied: pillow>=6.2.0 in /usr/local/lib/python3.10/dist-packages (from matplotlib!=3.6.1,>=3.4->seaborn) (9.4.0)\n",
            "Requirement already satisfied: pyparsing>=2.3.1 in /usr/local/lib/python3.10/dist-packages (from matplotlib!=3.6.1,>=3.4->seaborn) (3.1.2)\n",
            "Requirement already satisfied: python-dateutil>=2.7 in /usr/local/lib/python3.10/dist-packages (from matplotlib!=3.6.1,>=3.4->seaborn) (2.8.2)\n",
            "Requirement already satisfied: pytz>=2020.1 in /usr/local/lib/python3.10/dist-packages (from pandas>=1.2->seaborn) (2023.4)\n",
            "Requirement already satisfied: tzdata>=2022.1 in /usr/local/lib/python3.10/dist-packages (from pandas>=1.2->seaborn) (2024.1)\n",
            "Requirement already satisfied: six>=1.5 in /usr/local/lib/python3.10/dist-packages (from python-dateutil>=2.7->matplotlib!=3.6.1,>=3.4->seaborn) (1.16.0)\n"
          ]
        }
      ],
      "source": [
        "from sklearn.model_selection import train_test_split\n",
        "from sklearn.linear_model import LogisticRegression\n",
        "from sklearn.naive_bayes import MultinomialNB\n",
        "from sklearn.tree import DecisionTreeClassifier\n",
        "from sklearn.ensemble import RandomForestClassifier\n",
        "from sklearn.svm import SVC\n",
        "from sklearn.metrics import accuracy_score, precision_score, recall_score, f1_score, confusion_matrix, roc_auc_score, roc_curve\n",
        "import matplotlib.pyplot as plt\n",
        "%pip install seaborn\n",
        "import seaborn as sns\n",
        "\n",
        "# Split the dataset\n",
        "x_train, x_test, y_train, y_test = train_test_split(X_resampled, y_resampled, test_size=0.2)\n"
      ]
    },
    {
      "cell_type": "code",
      "execution_count": 85,
      "metadata": {
        "colab": {
          "base_uri": "https://localhost:8080/"
        },
        "id": "RKtwfkpPm_tf",
        "outputId": "d979acaf-ca0e-42d5-d1e4-d2680e8f2669"
      },
      "outputs": [
        {
          "output_type": "execute_result",
          "data": {
            "text/plain": [
              "<2376x9086 sparse matrix of type '<class 'numpy.float64'>'\n",
              "\twith 76470 stored elements in Compressed Sparse Row format>"
            ]
          },
          "metadata": {},
          "execution_count": 85
        }
      ],
      "source": [
        "x_test"
      ]
    },
    {
      "cell_type": "code",
      "execution_count": 86,
      "metadata": {
        "colab": {
          "base_uri": "https://localhost:8080/"
        },
        "id": "wyf4Tqzzm_tf",
        "outputId": "dc9a886b-0681-42ae-e60c-7a3c74668be1"
      },
      "outputs": [
        {
          "output_type": "execute_result",
          "data": {
            "text/plain": [
              "<2376x9086 sparse matrix of type '<class 'numpy.float64'>'\n",
              "\twith 76470 stored elements in Compressed Sparse Row format>"
            ]
          },
          "metadata": {},
          "execution_count": 86
        }
      ],
      "source": [
        "x_test"
      ]
    },
    {
      "cell_type": "code",
      "execution_count": 87,
      "metadata": {
        "colab": {
          "base_uri": "https://localhost:8080/"
        },
        "id": "lq2NQPAZm_tg",
        "outputId": "cbeb87e6-f634-462d-dbf7-7c245ebfb3d9"
      },
      "outputs": [
        {
          "output_type": "stream",
          "name": "stdout",
          "text": [
            "ROC AUC Score (Macro): 0.9891571844771048\n"
          ]
        }
      ],
      "source": [
        "from sklearn import svm\n",
        "from sklearn.metrics import roc_auc_score\n",
        "\n",
        "# Create the SVC model with probability=True\n",
        "model = svm.SVC(probability=True)\n",
        "\n",
        "# Fit the model\n",
        "model.fit(x_train, y_train)\n",
        "\n",
        "# ROC/AUC Curve\n",
        "y_probs = model.predict_proba(x_test)\n",
        "macro_roc_auc_ovr = roc_auc_score(y_test, y_probs, multi_class=\"ovr\", average=\"macro\")\n",
        "print(f\"ROC AUC Score (Macro): {macro_roc_auc_ovr}\")"
      ]
    },
    {
      "cell_type": "markdown",
      "metadata": {
        "id": "fLVp6bTZtUpI",
        "tags": [
          "parameters"
        ]
      },
      "source": [
        "Get Predictions\n",
        "\n",
        "To Get predictions, we're using most accurate model, Support Vector Machine (SVM)\n",
        ""
      ]
    },
    {
      "cell_type": "code",
      "execution_count": 88,
      "metadata": {
        "colab": {
          "base_uri": "https://localhost:8080/"
        },
        "id": "mdhw8R65m_tg",
        "outputId": "3214c286-5e15-4899-fc01-977efdf05b17"
      },
      "outputs": [
        {
          "output_type": "stream",
          "name": "stdout",
          "text": [
            "Predictions for Naive Bayes: [5.]\n",
            "Predictions for Logistic Regression: [5.]\n",
            "Predictions for Decision Tree: [5.]\n",
            "Predictions for Random Forest: [5.]\n",
            "Predictions for Support Vector Machine: [5.]\n"
          ]
        }
      ],
      "source": [
        "# Predict on new datanew_comment = \"The food was delicious and the service was great!\"\n",
        "\n",
        "new_comment = \"The Cheese Kotthu is a standout, arguably the best in Colombo.\"\n",
        "new_comment_preprocessed = text_preprocessing(new_comment)\n",
        "new_comment_vectorized = tfidf_vectorizer.transform([new_comment_preprocessed])\n",
        "predictions = {}\n",
        "for model_name, model in models.items():\n",
        "    predictions[model_name] = model.predict(new_comment_vectorized)\n",
        "for model_name, prediction in predictions.items():\n",
        "    print(f\"Predictions for {model_name}: {le.inverse_transform(prediction)}\")"
      ]
    },
    {
      "cell_type": "code",
      "execution_count": 89,
      "metadata": {
        "colab": {
          "base_uri": "https://localhost:8080/"
        },
        "id": "t-JmoApMXfWf",
        "outputId": "714bdc1c-e597-44cb-8d05-92d534321f6d"
      },
      "outputs": [
        {
          "output_type": "stream",
          "name": "stdout",
          "text": [
            "Predicted Rating: [5.]\n"
          ]
        }
      ],
      "source": [
        "# prompt: Give the code to get predictions\n",
        "\n",
        "# Predict on new datanew_comment = \"The food was delicious and the service was great!\"\n",
        "new_comment_preprocessed = text_preprocessing(new_comment)\n",
        "new_comment_vectorized = tfidf_vectorizer.transform([new_comment_preprocessed])\n",
        "\n",
        "prediction = model.predict(new_comment_vectorized)\n",
        "print(f\"Predicted Rating: {le.inverse_transform(prediction)}\")\n"
      ]
    },
    {
      "cell_type": "code",
      "execution_count": 90,
      "metadata": {
        "colab": {
          "base_uri": "https://localhost:8080/"
        },
        "id": "MQVwLqzDm_tg",
        "outputId": "bc5beac0-e4a1-47f9-cb82-039dcf83133e"
      },
      "outputs": [
        {
          "output_type": "stream",
          "name": "stdout",
          "text": [
            "Requirement already satisfied: joblib in /usr/local/lib/python3.10/dist-packages (1.4.0)\n"
          ]
        },
        {
          "output_type": "execute_result",
          "data": {
            "text/plain": [
              "['svm_model.pkl']"
            ]
          },
          "metadata": {},
          "execution_count": 90
        }
      ],
      "source": [
        "%pip install joblib\n",
        "import joblib\n",
        "\n",
        "# Save the SVM model as a pickle file\n",
        "joblib.dump(model, 'svm_model.pkl')\n"
      ]
    },
    {
      "cell_type": "markdown",
      "source": [
        "### Define Variables"
      ],
      "metadata": {
        "id": "rZQZvbJfxydd"
      }
    },
    {
      "cell_type": "code",
      "source": [
        "data_csv_file = 'data.csv'"
      ],
      "metadata": {
        "id": "NxQroXsrx0xh"
      },
      "execution_count": 91,
      "outputs": []
    },
    {
      "cell_type": "markdown",
      "source": [
        "### Import Required Libraries"
      ],
      "metadata": {
        "id": "jRUfGnwqwziK"
      }
    },
    {
      "cell_type": "code",
      "execution_count": 92,
      "metadata": {
        "id": "oTi7YrrGvjgJ"
      },
      "outputs": [],
      "source": [
        "import pandas as pd\n",
        "import json"
      ]
    },
    {
      "cell_type": "markdown",
      "source": [
        "### Read CSV\n"
      ],
      "metadata": {
        "id": "8mOz8wF4w3Pa"
      }
    },
    {
      "cell_type": "code",
      "source": [
        "df = pd.read_csv(data_csv_file,encoding=\"latin1\",usecols=range(5))\n",
        "df.head()"
      ],
      "metadata": {
        "colab": {
          "base_uri": "https://localhost:8080/",
          "height": 310
        },
        "id": "eC_YEmVZw6I9",
        "outputId": "57ed183b-25ab-4e76-8eaa-19ebd26c91f9"
      },
      "execution_count": 93,
      "outputs": [
        {
          "output_type": "execute_result",
          "data": {
            "text/plain": [
              "  Restaurant Name                             Location           Foods  \\\n",
              "0       BARS cafe  6.898030321645603, 79.8700224285028  Rice and Curry   \n",
              "1       BARS cafe  6.898030321645603, 79.8700224285028           Kottu   \n",
              "2       BARS cafe  6.898030321645603, 79.8700224285028           Kottu   \n",
              "3       BARS cafe  6.898030321645603, 79.8700224285028           Kottu   \n",
              "4       BARS cafe  6.898030321645603, 79.8700224285028  Egg Fried Rice   \n",
              "\n",
              "                                            Keywords  \\\n",
              "0  rice, rice and curry, Rice, Curry with rice, C...   \n",
              "1  kottu, kothtu, kotthu, kottu roti, Kottu, KOTT...   \n",
              "2  kottu, kothtu, kotthu, kottu roti, Kottu, KOTT...   \n",
              "3  kottu, kothtu, kotthu, kottu roti, Kottu, KOTT...   \n",
              "4      Egg, Fried, Rice, Fried Rice, Egg fried rice    \n",
              "\n",
              "                                            Comments  \n",
              "0  I have been buying their rice and curry for a ...  \n",
              "1                         Food is good but expensive  \n",
              "2       Worst food. Ordered kottu. It smelled awful.  \n",
              "3  They have a delicious range of kottus like gri...  \n",
              "4  I had the worst experience ever, I ordered egg...  "
            ],
            "text/html": [
              "\n",
              "  <div id=\"df-20dd2d61-c39a-4c0e-a052-e684d2522c20\" class=\"colab-df-container\">\n",
              "    <div>\n",
              "<style scoped>\n",
              "    .dataframe tbody tr th:only-of-type {\n",
              "        vertical-align: middle;\n",
              "    }\n",
              "\n",
              "    .dataframe tbody tr th {\n",
              "        vertical-align: top;\n",
              "    }\n",
              "\n",
              "    .dataframe thead th {\n",
              "        text-align: right;\n",
              "    }\n",
              "</style>\n",
              "<table border=\"1\" class=\"dataframe\">\n",
              "  <thead>\n",
              "    <tr style=\"text-align: right;\">\n",
              "      <th></th>\n",
              "      <th>Restaurant Name</th>\n",
              "      <th>Location</th>\n",
              "      <th>Foods</th>\n",
              "      <th>Keywords</th>\n",
              "      <th>Comments</th>\n",
              "    </tr>\n",
              "  </thead>\n",
              "  <tbody>\n",
              "    <tr>\n",
              "      <th>0</th>\n",
              "      <td>BARS cafe</td>\n",
              "      <td>6.898030321645603, 79.8700224285028</td>\n",
              "      <td>Rice and Curry</td>\n",
              "      <td>rice, rice and curry, Rice, Curry with rice, C...</td>\n",
              "      <td>I have been buying their rice and curry for a ...</td>\n",
              "    </tr>\n",
              "    <tr>\n",
              "      <th>1</th>\n",
              "      <td>BARS cafe</td>\n",
              "      <td>6.898030321645603, 79.8700224285028</td>\n",
              "      <td>Kottu</td>\n",
              "      <td>kottu, kothtu, kotthu, kottu roti, Kottu, KOTT...</td>\n",
              "      <td>Food is good but expensive</td>\n",
              "    </tr>\n",
              "    <tr>\n",
              "      <th>2</th>\n",
              "      <td>BARS cafe</td>\n",
              "      <td>6.898030321645603, 79.8700224285028</td>\n",
              "      <td>Kottu</td>\n",
              "      <td>kottu, kothtu, kotthu, kottu roti, Kottu, KOTT...</td>\n",
              "      <td>Worst food. Ordered kottu. It smelled awful.</td>\n",
              "    </tr>\n",
              "    <tr>\n",
              "      <th>3</th>\n",
              "      <td>BARS cafe</td>\n",
              "      <td>6.898030321645603, 79.8700224285028</td>\n",
              "      <td>Kottu</td>\n",
              "      <td>kottu, kothtu, kotthu, kottu roti, Kottu, KOTT...</td>\n",
              "      <td>They have a delicious range of kottus like gri...</td>\n",
              "    </tr>\n",
              "    <tr>\n",
              "      <th>4</th>\n",
              "      <td>BARS cafe</td>\n",
              "      <td>6.898030321645603, 79.8700224285028</td>\n",
              "      <td>Egg Fried Rice</td>\n",
              "      <td>Egg, Fried, Rice, Fried Rice, Egg fried rice</td>\n",
              "      <td>I had the worst experience ever, I ordered egg...</td>\n",
              "    </tr>\n",
              "  </tbody>\n",
              "</table>\n",
              "</div>\n",
              "    <div class=\"colab-df-buttons\">\n",
              "\n",
              "  <div class=\"colab-df-container\">\n",
              "    <button class=\"colab-df-convert\" onclick=\"convertToInteractive('df-20dd2d61-c39a-4c0e-a052-e684d2522c20')\"\n",
              "            title=\"Convert this dataframe to an interactive table.\"\n",
              "            style=\"display:none;\">\n",
              "\n",
              "  <svg xmlns=\"http://www.w3.org/2000/svg\" height=\"24px\" viewBox=\"0 -960 960 960\">\n",
              "    <path d=\"M120-120v-720h720v720H120Zm60-500h600v-160H180v160Zm220 220h160v-160H400v160Zm0 220h160v-160H400v160ZM180-400h160v-160H180v160Zm440 0h160v-160H620v160ZM180-180h160v-160H180v160Zm440 0h160v-160H620v160Z\"/>\n",
              "  </svg>\n",
              "    </button>\n",
              "\n",
              "  <style>\n",
              "    .colab-df-container {\n",
              "      display:flex;\n",
              "      gap: 12px;\n",
              "    }\n",
              "\n",
              "    .colab-df-convert {\n",
              "      background-color: #E8F0FE;\n",
              "      border: none;\n",
              "      border-radius: 50%;\n",
              "      cursor: pointer;\n",
              "      display: none;\n",
              "      fill: #1967D2;\n",
              "      height: 32px;\n",
              "      padding: 0 0 0 0;\n",
              "      width: 32px;\n",
              "    }\n",
              "\n",
              "    .colab-df-convert:hover {\n",
              "      background-color: #E2EBFA;\n",
              "      box-shadow: 0px 1px 2px rgba(60, 64, 67, 0.3), 0px 1px 3px 1px rgba(60, 64, 67, 0.15);\n",
              "      fill: #174EA6;\n",
              "    }\n",
              "\n",
              "    .colab-df-buttons div {\n",
              "      margin-bottom: 4px;\n",
              "    }\n",
              "\n",
              "    [theme=dark] .colab-df-convert {\n",
              "      background-color: #3B4455;\n",
              "      fill: #D2E3FC;\n",
              "    }\n",
              "\n",
              "    [theme=dark] .colab-df-convert:hover {\n",
              "      background-color: #434B5C;\n",
              "      box-shadow: 0px 1px 3px 1px rgba(0, 0, 0, 0.15);\n",
              "      filter: drop-shadow(0px 1px 2px rgba(0, 0, 0, 0.3));\n",
              "      fill: #FFFFFF;\n",
              "    }\n",
              "  </style>\n",
              "\n",
              "    <script>\n",
              "      const buttonEl =\n",
              "        document.querySelector('#df-20dd2d61-c39a-4c0e-a052-e684d2522c20 button.colab-df-convert');\n",
              "      buttonEl.style.display =\n",
              "        google.colab.kernel.accessAllowed ? 'block' : 'none';\n",
              "\n",
              "      async function convertToInteractive(key) {\n",
              "        const element = document.querySelector('#df-20dd2d61-c39a-4c0e-a052-e684d2522c20');\n",
              "        const dataTable =\n",
              "          await google.colab.kernel.invokeFunction('convertToInteractive',\n",
              "                                                    [key], {});\n",
              "        if (!dataTable) return;\n",
              "\n",
              "        const docLinkHtml = 'Like what you see? Visit the ' +\n",
              "          '<a target=\"_blank\" href=https://colab.research.google.com/notebooks/data_table.ipynb>data table notebook</a>'\n",
              "          + ' to learn more about interactive tables.';\n",
              "        element.innerHTML = '';\n",
              "        dataTable['output_type'] = 'display_data';\n",
              "        await google.colab.output.renderOutput(dataTable, element);\n",
              "        const docLink = document.createElement('div');\n",
              "        docLink.innerHTML = docLinkHtml;\n",
              "        element.appendChild(docLink);\n",
              "      }\n",
              "    </script>\n",
              "  </div>\n",
              "\n",
              "\n",
              "<div id=\"df-4c7f43ba-f39e-4bad-a1c0-bf3c4ade9474\">\n",
              "  <button class=\"colab-df-quickchart\" onclick=\"quickchart('df-4c7f43ba-f39e-4bad-a1c0-bf3c4ade9474')\"\n",
              "            title=\"Suggest charts\"\n",
              "            style=\"display:none;\">\n",
              "\n",
              "<svg xmlns=\"http://www.w3.org/2000/svg\" height=\"24px\"viewBox=\"0 0 24 24\"\n",
              "     width=\"24px\">\n",
              "    <g>\n",
              "        <path d=\"M19 3H5c-1.1 0-2 .9-2 2v14c0 1.1.9 2 2 2h14c1.1 0 2-.9 2-2V5c0-1.1-.9-2-2-2zM9 17H7v-7h2v7zm4 0h-2V7h2v10zm4 0h-2v-4h2v4z\"/>\n",
              "    </g>\n",
              "</svg>\n",
              "  </button>\n",
              "\n",
              "<style>\n",
              "  .colab-df-quickchart {\n",
              "      --bg-color: #E8F0FE;\n",
              "      --fill-color: #1967D2;\n",
              "      --hover-bg-color: #E2EBFA;\n",
              "      --hover-fill-color: #174EA6;\n",
              "      --disabled-fill-color: #AAA;\n",
              "      --disabled-bg-color: #DDD;\n",
              "  }\n",
              "\n",
              "  [theme=dark] .colab-df-quickchart {\n",
              "      --bg-color: #3B4455;\n",
              "      --fill-color: #D2E3FC;\n",
              "      --hover-bg-color: #434B5C;\n",
              "      --hover-fill-color: #FFFFFF;\n",
              "      --disabled-bg-color: #3B4455;\n",
              "      --disabled-fill-color: #666;\n",
              "  }\n",
              "\n",
              "  .colab-df-quickchart {\n",
              "    background-color: var(--bg-color);\n",
              "    border: none;\n",
              "    border-radius: 50%;\n",
              "    cursor: pointer;\n",
              "    display: none;\n",
              "    fill: var(--fill-color);\n",
              "    height: 32px;\n",
              "    padding: 0;\n",
              "    width: 32px;\n",
              "  }\n",
              "\n",
              "  .colab-df-quickchart:hover {\n",
              "    background-color: var(--hover-bg-color);\n",
              "    box-shadow: 0 1px 2px rgba(60, 64, 67, 0.3), 0 1px 3px 1px rgba(60, 64, 67, 0.15);\n",
              "    fill: var(--button-hover-fill-color);\n",
              "  }\n",
              "\n",
              "  .colab-df-quickchart-complete:disabled,\n",
              "  .colab-df-quickchart-complete:disabled:hover {\n",
              "    background-color: var(--disabled-bg-color);\n",
              "    fill: var(--disabled-fill-color);\n",
              "    box-shadow: none;\n",
              "  }\n",
              "\n",
              "  .colab-df-spinner {\n",
              "    border: 2px solid var(--fill-color);\n",
              "    border-color: transparent;\n",
              "    border-bottom-color: var(--fill-color);\n",
              "    animation:\n",
              "      spin 1s steps(1) infinite;\n",
              "  }\n",
              "\n",
              "  @keyframes spin {\n",
              "    0% {\n",
              "      border-color: transparent;\n",
              "      border-bottom-color: var(--fill-color);\n",
              "      border-left-color: var(--fill-color);\n",
              "    }\n",
              "    20% {\n",
              "      border-color: transparent;\n",
              "      border-left-color: var(--fill-color);\n",
              "      border-top-color: var(--fill-color);\n",
              "    }\n",
              "    30% {\n",
              "      border-color: transparent;\n",
              "      border-left-color: var(--fill-color);\n",
              "      border-top-color: var(--fill-color);\n",
              "      border-right-color: var(--fill-color);\n",
              "    }\n",
              "    40% {\n",
              "      border-color: transparent;\n",
              "      border-right-color: var(--fill-color);\n",
              "      border-top-color: var(--fill-color);\n",
              "    }\n",
              "    60% {\n",
              "      border-color: transparent;\n",
              "      border-right-color: var(--fill-color);\n",
              "    }\n",
              "    80% {\n",
              "      border-color: transparent;\n",
              "      border-right-color: var(--fill-color);\n",
              "      border-bottom-color: var(--fill-color);\n",
              "    }\n",
              "    90% {\n",
              "      border-color: transparent;\n",
              "      border-bottom-color: var(--fill-color);\n",
              "    }\n",
              "  }\n",
              "</style>\n",
              "\n",
              "  <script>\n",
              "    async function quickchart(key) {\n",
              "      const quickchartButtonEl =\n",
              "        document.querySelector('#' + key + ' button');\n",
              "      quickchartButtonEl.disabled = true;  // To prevent multiple clicks.\n",
              "      quickchartButtonEl.classList.add('colab-df-spinner');\n",
              "      try {\n",
              "        const charts = await google.colab.kernel.invokeFunction(\n",
              "            'suggestCharts', [key], {});\n",
              "      } catch (error) {\n",
              "        console.error('Error during call to suggestCharts:', error);\n",
              "      }\n",
              "      quickchartButtonEl.classList.remove('colab-df-spinner');\n",
              "      quickchartButtonEl.classList.add('colab-df-quickchart-complete');\n",
              "    }\n",
              "    (() => {\n",
              "      let quickchartButtonEl =\n",
              "        document.querySelector('#df-4c7f43ba-f39e-4bad-a1c0-bf3c4ade9474 button');\n",
              "      quickchartButtonEl.style.display =\n",
              "        google.colab.kernel.accessAllowed ? 'block' : 'none';\n",
              "    })();\n",
              "  </script>\n",
              "</div>\n",
              "\n",
              "    </div>\n",
              "  </div>\n"
            ],
            "application/vnd.google.colaboratory.intrinsic+json": {
              "type": "dataframe",
              "variable_name": "df",
              "summary": "{\n  \"name\": \"df\",\n  \"rows\": 111,\n  \"fields\": [\n    {\n      \"column\": \"Restaurant Name\",\n      \"properties\": {\n        \"dtype\": \"category\",\n        \"num_unique_values\": 13,\n        \"samples\": [\n          \"Paan Paan - Havelock Road\",\n          \"The Gallery Caf \",\n          \"BARS cafe\"\n        ],\n        \"semantic_type\": \"\",\n        \"description\": \"\"\n      }\n    },\n    {\n      \"column\": \"Location\",\n      \"properties\": {\n        \"dtype\": \"object\",\n        \"num_unique_values\": 13,\n        \"samples\": [\n          \"6.898914955562731, 79.86055503977914\",\n          \"6.902522734983257, 79.8553875017821\",\n          \"6.898030321645603, 79.8700224285028\"\n        ],\n        \"semantic_type\": \"\",\n        \"description\": \"\"\n      }\n    },\n    {\n      \"column\": \"Foods\",\n      \"properties\": {\n        \"dtype\": \"string\",\n        \"num_unique_values\": 72,\n        \"samples\": [\n          \"Biriyani\",\n          \"Sandwiches\",\n          \"Hot Butter Cuttlefish\"\n        ],\n        \"semantic_type\": \"\",\n        \"description\": \"\"\n      }\n    },\n    {\n      \"column\": \"Keywords\",\n      \"properties\": {\n        \"dtype\": \"string\",\n        \"num_unique_values\": 75,\n        \"samples\": [\n          \"Buriyani, Biriyani, biriani, biriyani\",\n          \"Chicken Chapati Wrap, chapathi, chapathi wrap\",\n          \"Nase Goreng, Nasi Goreng\"\n        ],\n        \"semantic_type\": \"\",\n        \"description\": \"\"\n      }\n    },\n    {\n      \"column\": \"Comments\",\n      \"properties\": {\n        \"dtype\": \"string\",\n        \"num_unique_values\": 108,\n        \"samples\": [\n          \"My only critique would be that the spaghetti bolognese didn't quite meet my expectations.\",\n          \"Tasty and worth the price, but crowded at night.\",\n          \"I had the worst experience ever, I ordered egg-fried rice from Bars cafe through pick me and while eating the food found a worm in the chop suey. And the rice was so soggy overall the experience was bad and I highly don't recommend this place.\"\n        ],\n        \"semantic_type\": \"\",\n        \"description\": \"\"\n      }\n    }\n  ]\n}"
            }
          },
          "metadata": {},
          "execution_count": 93
        }
      ]
    },
    {
      "cell_type": "markdown",
      "source": [
        "### Load ML Model\n"
      ],
      "metadata": {
        "id": "2zG1EX3PxNXi"
      }
    },
    {
      "cell_type": "code",
      "source": [
        "svm_model = None\n",
        "with open('svm_model.pkl', 'rb') as f:\n",
        "    svm_model = joblib.load(f)"
      ],
      "metadata": {
        "id": "K-CJnhCfigSr"
      },
      "execution_count": 94,
      "outputs": []
    },
    {
      "cell_type": "markdown",
      "source": [
        "### Build Basic JSON"
      ],
      "metadata": {
        "id": "N_RdzvDnxIDK"
      }
    },
    {
      "cell_type": "code",
      "source": [
        "foods=[]\n",
        "id=0\n",
        "for index, row in df.iterrows():\n",
        "  food_name = row[2]\n",
        "  keywords = row[3]\n",
        "\n",
        "  # Add Food If Not Exists\n",
        "  already_has_food_name = False\n",
        "  for food in foods:\n",
        "    if food_name == food[\"food_name\"]:\n",
        "      already_has_food_name=True\n",
        "      break\n",
        "\n",
        "  if not already_has_food_name:\n",
        "    foods.append({\n",
        "        \"food_id\":id,\n",
        "        \"food_name\":food_name,\n",
        "        \"keywords\":[word.strip() for word in str(keywords).split(\",\")],\n",
        "        \"shops\":[]\n",
        "    })\n",
        "    id+=1\n",
        "\n",
        "\n",
        "  # Select Specific Food\n",
        "  current_food = None\n",
        "  for food in foods:\n",
        "    if food_name == food[\"food_name\"]:\n",
        "      current_food = food\n",
        "      break\n",
        "\n",
        "  # Get Current Shop Name\n",
        "  shop_name = row[0]\n",
        "  coordinates = row[1]\n",
        "\n",
        "\n",
        "  # Add Shop If Not Exists\n",
        "  already_has_shop_name_in_food = False\n",
        "  for shop in current_food[\"shops\"]:\n",
        "    if shop_name == shop[\"shop_name\"]:\n",
        "      already_has_shop_name_in_food=True\n",
        "      break\n",
        "\n",
        "  if not already_has_shop_name_in_food:\n",
        "    current_food[\"shops\"].append({\n",
        "        \"shop_name\":shop_name,\n",
        "        \"coordinates\":[float(loc.strip()) for loc in str(coordinates).split(\",\")],\n",
        "        \"comments\":[]\n",
        "    })\n",
        "\n",
        "  # Add Comments To Shop\n",
        "  new_comment_preprocessed = text_preprocessing(row[4])\n",
        "  new_comment_vectorized = tfidf_vectorizer.transform([new_comment_preprocessed])\n",
        "  prediction = svm_model.predict(new_comment_vectorized)\n",
        "  sentimental_rating = le.inverse_transform(prediction)\n",
        "  for shop in current_food[\"shops\"]:\n",
        "    if shop_name == shop[\"shop_name\"]:\n",
        "      shop[\"comments\"].append(\n",
        "          {\n",
        "              \"text\":row[4],\n",
        "              \"sentimental_rating\": sentimental_rating[0]\n",
        "          }\n",
        "      )\n"
      ],
      "metadata": {
        "id": "2f-irkYixMtT"
      },
      "execution_count": 95,
      "outputs": []
    },
    {
      "cell_type": "markdown",
      "source": [
        "### Use Model And Build JSON With Overall Sentimental Ratings\n",
        "\n"
      ],
      "metadata": {
        "id": "BzvDzsO8xTnT"
      }
    },
    {
      "cell_type": "code",
      "source": [
        "for food in foods:\n",
        "  for shop in food[\"shops\"]:\n",
        "    ratings = []\n",
        "    for comment in shop[\"comments\"]:\n",
        "      ratings.append(comment[\"sentimental_rating\"])\n",
        "    shop[\"overall_sentimental_rating\"]= np.mean(ratings)\n",
        "\n",
        "\n",
        "print(json.dumps(foods))\n",
        "with open(\"output.json\", 'w') as json_file:\n",
        "    json.dump(foods, json_file)"
      ],
      "metadata": {
        "id": "bFxO5wqcxbm7",
        "colab": {
          "base_uri": "https://localhost:8080/"
        },
        "outputId": "f2131eb2-4810-4661-cc07-45829bb45df8"
      },
      "execution_count": 96,
      "outputs": [
        {
          "output_type": "stream",
          "name": "stdout",
          "text": [
            "[{\"food_id\": 0, \"food_name\": \"Rice and Curry\", \"keywords\": [\"rice\", \"rice and curry\", \"Rice\", \"Curry with rice\", \"Curry\", \"bath\"], \"shops\": [{\"shop_name\": \"BARS cafe\", \"coordinates\": [6.898030321645603, 79.8700224285028], \"comments\": [{\"text\": \"I have been buying their rice and curry for a while, and the food has always been delicious. They currently sell at 550, which is reasonable compared to other shops in the area. Only card payments are accepted.\", \"sentimental_rating\": 5.0}], \"overall_sentimental_rating\": 5.0}, {\"shop_name\": \"Hotel De Plaza\", \"coordinates\": [6.9101334265701615, 79.85121759508941], \"comments\": [{\"text\": \"Good place to hv non veg dinner.   Cost wise very worth.\", \"sentimental_rating\": 4.0}], \"overall_sentimental_rating\": 4.0}, {\"shop_name\": \"Palmyrah Restaurant\", \"coordinates\": [6.911921541358405, 79.85039971705802], \"comments\": [{\"text\": \"There is a superb selection of rice, curries, sambols and of course appetizers.  In addition, there are mouthwatering desserts.\", \"sentimental_rating\": 5.0}], \"overall_sentimental_rating\": 5.0}]}, {\"food_id\": 1, \"food_name\": \"Kottu\", \"keywords\": [\"kottu\", \"kothtu\", \"kotthu\", \"kottu roti\", \"Kottu\", \"KOTTU\", \"KOTHTHU\"], \"shops\": [{\"shop_name\": \"BARS cafe\", \"coordinates\": [6.898030321645603, 79.8700224285028], \"comments\": [{\"text\": \"Food is good but expensive\", \"sentimental_rating\": 4.0}, {\"text\": \"Worst food. Ordered kottu. It smelled awful.\", \"sentimental_rating\": 1.0}, {\"text\": \"They have a delicious range of kottus like grilled chicken kottu and double egg omelet kottu, but they are best known for their signature beef kottu. Paring your kottu with a heavy milkshake is sure to make a filling meal. For desserts, BARS cafe has a yummy chocolate biscuit pudding, chocolate mousse, and more to choose from. \", \"sentimental_rating\": 4.0}], \"overall_sentimental_rating\": 3.0}, {\"shop_name\": \"Hotel De Plaza\", \"coordinates\": [6.9101334265701615, 79.85121759508941], \"comments\": [{\"text\": \"The Cheese Kotthu is a standout, arguably the best in Colombo. \", \"sentimental_rating\": 5.0}, {\"text\": \"However wasn t really happy with the kottu. It tasted really sour . Not sure if that s the quality they give at all times\", \"sentimental_rating\": 5.0}, {\"text\": \"kottu vas average\", \"sentimental_rating\": 2.0}, {\"text\": \"Don't have their masala kottu. They dump a ton of chilli that you can't eat it all\", \"sentimental_rating\": 4.0}], \"overall_sentimental_rating\": 4.0}]}, {\"food_id\": 2, \"food_name\": \"Egg Fried Rice\", \"keywords\": [\"Egg\", \"Fried\", \"Rice\", \"Fried Rice\", \"Egg fried rice\"], \"shops\": [{\"shop_name\": \"BARS cafe\", \"coordinates\": [6.898030321645603, 79.8700224285028], \"comments\": [{\"text\": \"I had the worst experience ever, I ordered egg-fried rice from Bars cafe through pick me and while eating the food found a worm in the chop suey. And the rice was so soggy overall the experience was bad and I highly don't recommend this place.\", \"sentimental_rating\": 1.0}], \"overall_sentimental_rating\": 1.0}]}, {\"food_id\": 3, \"food_name\": \"Chicken Satay \", \"keywords\": [\"Chicken Satay\", \"Satay\", \"sattay\", \"chicken\"], \"shops\": [{\"shop_name\": \"BARS cafe\", \"coordinates\": [6.898030321645603, 79.8700224285028], \"comments\": [{\"text\": \"Chicken Satay was most disappointing. It was like boiled pieces of chicken stuck on skewers.  Peanut sauce was as bad. Kindly refer to the photo posted under your site & what is being delivered just now. Very disappointing Bars! Get your standards quality controlled pleas\", \"sentimental_rating\": 1.0}], \"overall_sentimental_rating\": 1.0}]}, {\"food_id\": 4, \"food_name\": \"Biriyani\", \"keywords\": [\"Buriyani\", \"Biriyani\", \"biriani\", \"biriyani\"], \"shops\": [{\"shop_name\": \"BARS cafe\", \"coordinates\": [6.898030321645603, 79.8700224285028], \"comments\": [{\"text\": \"Just picked up 2 biriyani's based on the Google map Menu , price varied by a huge amount, could you kindly update. The boy answered saying it's correct but it wasn't. Please train your cashier to be courteous, I've also told him I have to make note of that. When I went to the counter he made a gesture, like mokkada from a little away from the counter! His attitude is off!\", \"sentimental_rating\": 1.0}], \"overall_sentimental_rating\": 1.0}, {\"shop_name\": \"Hotel De Plaza\", \"coordinates\": [6.9101334265701615, 79.85121759508941], \"comments\": [{\"text\": \"The worst biryani ever i taste.very disgusting taste\", \"sentimental_rating\": 1.0}, {\"text\": \"After 2 o clock PM , Don t try Briyani , they ll pump out anything. it usually good after some mindless waiter do this kind of things.\", \"sentimental_rating\": 4.0}], \"overall_sentimental_rating\": 2.5}, {\"shop_name\": \"Hotel De Pilawoos\", \"coordinates\": [6.897577395171475, 79.85484131910854], \"comments\": [{\"text\": \"the place is unbeatable for it's biriyani. A generous portion of juicy chicken or whatever meat one prefers, a hard boiled egg and several spicy sambals accompany a huge portion of the spicy rice.\", \"sentimental_rating\": 4.0}], \"overall_sentimental_rating\": 4.0}]}, {\"food_id\": 5, \"food_name\": \"Chicken Kottu\", \"keywords\": [\"kottu\", \"kothtu\", \"kotthu\", \"kottu roti\", \"Kottu\", \"KOTTU\", \"KOTHTHU\", \"Chicken Kottu\", \"CHICKEN KOTTU\", \"kottu chicken\", \"chicken kottu\"], \"shops\": [{\"shop_name\": \"Hotel De Plaza\", \"coordinates\": [6.9101334265701615, 79.85121759508941], \"comments\": [{\"text\": \"This was incredibly disappointing and raised serious hygiene concerns. I urge others to be cautious if dining here.\", \"sentimental_rating\": 5.0}, {\"text\": \"The food was exceptionally delicious, and I highly recommend trying the following items\", \"sentimental_rating\": 5.0}, {\"text\": \"Recommended dishes\", \"sentimental_rating\": 5.0}], \"overall_sentimental_rating\": 5.0}, {\"shop_name\": \"Mr. Kottu Grand - Maharagama\", \"coordinates\": [6.846432202382021, 79.93128040191932], \"comments\": [{\"text\": \"Very disappointing. The kotthu was dry and didn't have much taste. Not enough vegetables, it was mostly just cabbage and chilli.\", \"sentimental_rating\": 2.0}, {\"text\": \"Sent without chicken and the taste is far below compared to the price. Not expected from a reputed named shop. Not recommended for anyone. Pathetic and no customer service at all,very shameful !\", \"sentimental_rating\": 1.0}, {\"text\": \"Mr.Kottu, your service is the worst to ultra terrible.\", \"sentimental_rating\": 1.0}, {\"text\": \"Good place, Good food and most importantly Good service.\", \"sentimental_rating\": 5.0}, {\"text\": \"So it is really delicious and reasonable for all.\", \"sentimental_rating\": 5.0}, {\"text\": \"Not bad but bit overpriced\", \"sentimental_rating\": 3.0}, {\"text\": \"Kottu is very average. Its good, but not very good. Definitely not worth the money.\", \"sentimental_rating\": 3.0}], \"overall_sentimental_rating\": 2.857142857142857}]}, {\"food_id\": 6, \"food_name\": \"Egg Cheese Rotti\", \"keywords\": [\"Egg Cheese Rotti\", \"EGG ROTTI\", \"cheese rotti\", \"egg cheese\"], \"shops\": [{\"shop_name\": \"Hotel De Plaza\", \"coordinates\": [6.9101334265701615, 79.85121759508941], \"comments\": [{\"text\": \"Tasty and worth the price, but crowded at night.\", \"sentimental_rating\": 4.0}, {\"text\": \"The cheese and egg rotti was crispy buttery and tasty\", \"sentimental_rating\": 4.0}], \"overall_sentimental_rating\": 4.0}]}, {\"food_id\": 7, \"food_name\": \"Cheese Kottu\", \"keywords\": [\"kottu\", \"kothtu\", \"kotthu\", \"kottu roti\", \"Kottu\", \"KOTTU\", \"KOTHTHU\", \"Chicken Kottu\", \"CHICKEN KOTTU\", \"kottu chicken\", \"chicken kottu\"], \"shops\": [{\"shop_name\": \"Hotel De Plaza\", \"coordinates\": [6.9101334265701615, 79.85121759508941], \"comments\": [{\"text\": \"he kottu was amazing mainly the cheese kottu\", \"sentimental_rating\": 5.0}], \"overall_sentimental_rating\": 5.0}, {\"shop_name\": \"Mr. Kottu Grand - Maharagama\", \"coordinates\": [6.846432202382021, 79.93128040191932], \"comments\": [{\"text\": \"Mr.Kottu, your service is the worst to ultra terrible.\", \"sentimental_rating\": 1.0}, {\"text\": \"We had a cheese koththu and a nasi goreng. Portion was enough for two and tasty, well served. Highly recommend this place for anyone around.\", \"sentimental_rating\": 5.0}, {\"text\": \"Worst Kottu I had in recent time.\", \"sentimental_rating\": 1.0}, {\"text\": \"Worst Chicken kottu I have ever had. Not worth for price.\", \"sentimental_rating\": 1.0}, {\"text\": \"Cheese Kottu is like eating thambapu kos or ????. Terrible. Waste of money.\", \"sentimental_rating\": 1.0}, {\"text\": \"people expect something more! This is not even close to Koththu!\", \"sentimental_rating\": 1.0}], \"overall_sentimental_rating\": 1.6666666666666667}, {\"shop_name\": \"The Embazzy\", \"coordinates\": [6.910640824468402, 79.85879635697717], \"comments\": [{\"text\": \" Great place for a hangout. Food was good\", \"sentimental_rating\": 4.0}], \"overall_sentimental_rating\": 4.0}]}, {\"food_id\": 8, \"food_name\": \"Parotta\", \"keywords\": [\"Parotta\", \"Parata\", \"Parati\", \"paratta\", \"paraata\"], \"shops\": [{\"shop_name\": \"Hotel De Plaza\", \"coordinates\": [6.9101334265701615, 79.85121759508941], \"comments\": [{\"text\": \"The food was exceptionally delicious, and I highly recommend trying the following items\", \"sentimental_rating\": 5.0}], \"overall_sentimental_rating\": 5.0}]}, {\"food_id\": 9, \"food_name\": \"Nasi Goreng\", \"keywords\": [\"Nase Goreng\", \"Nasi Goreng\"], \"shops\": [{\"shop_name\": \"Mr. Kottu Grand - Maharagama\", \"coordinates\": [6.846432202382021, 79.93128040191932], \"comments\": [{\"text\": \"We had a cheese koththu and a nasi goreng. Portion was enough for two and tasty, well served. Highly recommend this place for anyone around.\", \"sentimental_rating\": 5.0}], \"overall_sentimental_rating\": 5.0}, {\"shop_name\": \"The Embazzy\", \"coordinates\": [6.910640824468402, 79.85879635697717], \"comments\": [{\"text\": \"Prices are definitely on the higher side \", \"sentimental_rating\": 4.0}], \"overall_sentimental_rating\": 4.0}]}, {\"food_id\": 10, \"food_name\": \"Seafood Chicken Kottu\", \"keywords\": [\"kottu\", \"kothtu\", \"kotthu\", \"kottu roti\", \"Kottu\", \"KOTTU\", \"KOTHTHU\", \"Chicken Kottu\", \"CHICKEN KOTTU\", \"kottu chicken\", \"chicken kottu\", \"Seafood Chicken Kottu\", \"SEAFOOD CHICKEN KOTTU\"], \"shops\": [{\"shop_name\": \"Mr. Kottu Grand - Maharagama\", \"coordinates\": [6.846432202382021, 79.93128040191932], \"comments\": [{\"text\": \"Not recommend.\", \"sentimental_rating\": 5.0}], \"overall_sentimental_rating\": 5.0}]}, {\"food_id\": 11, \"food_name\": \"Palandi Cheese Kottu\", \"keywords\": [\"kottu\", \"kothtu\", \"kotthu\", \"kottu roti\", \"Kottu\", \"KOTTU\", \"KOTHTHU\", \"Chicken Kottu\", \"CHICKEN KOTTU\", \"kottu chicken\", \"chicken kottu\", \"Cheese Kottu\", \"CHEESE KOTTU\"], \"shops\": [{\"shop_name\": \"Mr. Kottu Grand - Maharagama\", \"coordinates\": [6.846432202382021, 79.93128040191932], \"comments\": [{\"text\": \"These places dont look alike as seen in videos.\", \"sentimental_rating\": 4.0}], \"overall_sentimental_rating\": 4.0}]}, {\"food_id\": 12, \"food_name\": \"Masala Kottu\", \"keywords\": [\"kottu\", \"kothtu\", \"kotthu\", \"kottu roti\", \"Kottu\", \"KOTTU\", \"Masala Kottu\", \"Masala koththu\", \"Masala\"], \"shops\": [{\"shop_name\": \"Mr. Kottu Grand - Maharagama\", \"coordinates\": [6.846432202382021, 79.93128040191932], \"comments\": [{\"text\": \"masala kottu is amazing\", \"sentimental_rating\": 5.0}], \"overall_sentimental_rating\": 5.0}, {\"shop_name\": \"Hotel De Pilawoos\", \"coordinates\": [6.897577395171475, 79.85484131910854], \"comments\": [{\"text\": \"When we went in, no body will ask what we need. We went to the counter and ordered Masala Kottu, which they are famous. It was extremely spice we could not eat\", \"sentimental_rating\": 1.0}], \"overall_sentimental_rating\": 1.0}]}, {\"food_id\": 13, \"food_name\": \"Seafood fried rice\", \"keywords\": [\"Fired Rice\", \"Seafood\", \"Seafood Rice\", \"SEAFOOD RICE\"], \"shops\": [{\"shop_name\": \"The Embazzy\", \"coordinates\": [6.910640824468402, 79.85879635697717], \"comments\": [{\"text\": \"Great calm atmosphere with some exceptional food\", \"sentimental_rating\": 5.0}], \"overall_sentimental_rating\": 5.0}]}, {\"food_id\": 14, \"food_name\": \"Pasta\", \"keywords\": [\"Pasta\", \"Pastha\", \"paasta\", \"pesta\"], \"shops\": [{\"shop_name\": \"The Embazzy\", \"coordinates\": [6.910640824468402, 79.85879635697717], \"comments\": [{\"text\": \"The WORST pasta in town! Horrible food.\", \"sentimental_rating\": 1.0}], \"overall_sentimental_rating\": 1.0}]}, {\"food_id\": 15, \"food_name\": \"Sushi \", \"keywords\": [\"suchi\", \"sushi\", \"sooshi\"], \"shops\": [{\"shop_name\": \"The Lagoon\", \"coordinates\": [6.920303878584742, 79.84989129862907], \"comments\": [{\"text\": \"That was probably among the worst sushi we've had in Colombo!\", \"sentimental_rating\": 1.0}], \"overall_sentimental_rating\": 1.0}]}, {\"food_id\": 16, \"food_name\": \"Prawns\", \"keywords\": [\"prawns\", \"prwns\", \"prawn\"], \"shops\": [{\"shop_name\": \"The Lagoon\", \"coordinates\": [6.920303878584742, 79.84989129862907], \"comments\": [{\"text\": \"The prawns were slightly overcooked. Nice displays of seafood but execution was quite poor.\", \"sentimental_rating\": 4.0}], \"overall_sentimental_rating\": 4.0}]}, {\"food_id\": 17, \"food_name\": \"Mash Potatoes\", \"keywords\": [\"Mash Potatoes\", \"Potatoes\", \"Mash\", \"potatao\"], \"shops\": [{\"shop_name\": \"The Lagoon\", \"coordinates\": [6.920303878584742, 79.84989129862907], \"comments\": [{\"text\": \"It had the consistency of a thick soup with no taste of potatoes. I could only have one spoon of it. \", \"sentimental_rating\": 4.0}], \"overall_sentimental_rating\": 4.0}]}, {\"food_id\": 18, \"food_name\": \"Hot Butter Cuttlefish\", \"keywords\": [\"Hot Butter Cuttlefish\", \"Cuttlefish\", \"Butter\", \"Hot\"], \"shops\": [{\"shop_name\": \"The Lagoon\", \"coordinates\": [6.920303878584742, 79.84989129862907], \"comments\": [{\"text\": \"That hot butter cuttlefish dish is very nice option to try.It's so good.\", \"sentimental_rating\": 4.0}], \"overall_sentimental_rating\": 4.0}]}, {\"food_id\": 19, \"food_name\": \"Jumbo Prawns\", \"keywords\": [\"Jumbo Prawns\", \"Prawns\", \"Jumbo\"], \"shops\": [{\"shop_name\": \"The Lagoon\", \"coordinates\": [6.920303878584742, 79.84989129862907], \"comments\": [{\"text\": \"From prawns that danced on my tongue to fish so fresh it swam free in my mind, this place reeled me in. Crabs cracked & lobsters steamed, all perfection. A feast for the sense\", \"sentimental_rating\": 4.0}], \"overall_sentimental_rating\": 4.0}]}, {\"food_id\": 20, \"food_name\": \"Sushi\", \"keywords\": [\"Sushi\", \"sushi\", \"sooshi\"], \"shops\": [{\"shop_name\": \"The Lagoon\", \"coordinates\": [6.920303878584742, 79.84989129862907], \"comments\": [{\"text\": \"The sushi was rubbish with overcooked rice.\", \"sentimental_rating\": 1.0}], \"overall_sentimental_rating\": 1.0}]}, {\"food_id\": 21, \"food_name\": \"Egg Kottu\", \"keywords\": [\"kottu\", \"kothtu\", \"kotthu\", \"kottu roti\", \"Kottu\", \"KOTTU\", \"KOTHTHU\", \"egg\", \"Egg\", \"Egg Koththu\", \"Egg kottu\"], \"shops\": [{\"shop_name\": \"Hotel De Pilawoos\", \"coordinates\": [6.897577395171475, 79.85484131910854], \"comments\": [{\"text\": \"For a 1st time trial, we really didn't like it much , the taste was too pungent, The service was good and staffs are friendly but food quality was a question.\", \"sentimental_rating\": 5.0}], \"overall_sentimental_rating\": 5.0}]}, {\"food_id\": 22, \"food_name\": \"Roti and Dhal curry\", \"keywords\": [\"Dhal curry\", \"Roti and Dhal curry\", \"Roti Dhal curry\", \"Dhal curri\", \"Dhal Curry\"], \"shops\": [{\"shop_name\": \"Hotel De Pilawoos\", \"coordinates\": [6.897577395171475, 79.85484131910854], \"comments\": [{\"text\": \"That everything tasted great and the service was helpful and friendly\", \"sentimental_rating\": 5.0}], \"overall_sentimental_rating\": 5.0}]}, {\"food_id\": 23, \"food_name\": \"Milk Tea\", \"keywords\": [\"Milk\", \"Tea\", \"Milk Tea\", \"tea\"], \"shops\": [{\"shop_name\": \"Hotel De Pilawoos\", \"coordinates\": [6.897577395171475, 79.85484131910854], \"comments\": [{\"text\": \"The milk coffee especially tasted amazing. Prices were very reasonable although do be aware that they asked us for a tip when we were leaving\", \"sentimental_rating\": 4.0}], \"overall_sentimental_rating\": 4.0}]}, {\"food_id\": 24, \"food_name\": \"Avacado Juice\", \"keywords\": [\"Avacado Juice\", \"Juice\", \"Avacado\", \"jus\"], \"shops\": [{\"shop_name\": \"Hotel De Pilawoos\", \"coordinates\": [6.897577395171475, 79.85484131910854], \"comments\": [{\"text\": \"We loved its avocado juice. Well blended\", \"sentimental_rating\": 5.0}], \"overall_sentimental_rating\": 5.0}]}, {\"food_id\": 25, \"food_name\": \"Mango Sticky Rice\", \"keywords\": [\"Rice\", \"Mango Rice\", \"Mango Sticky Rice\"], \"shops\": [{\"shop_name\": \"Monsoon Colombo\", \"coordinates\": [6.918444245505873, 79.85869239294959], \"comments\": [{\"text\": \"The mango sticky rice was a letdown.The mago wasn't ripe and sweet.\", \"sentimental_rating\": 4.0}], \"overall_sentimental_rating\": 4.0}]}, {\"food_id\": 26, \"food_name\": \"Seafood\", \"keywords\": [\"Seafood\", \"Seafood\", \"Sambol\", \"Seafood\"], \"shops\": [{\"shop_name\": \"Monsoon Colombo\", \"coordinates\": [6.918444245505873, 79.85869239294959], \"comments\": [{\"text\": \"They cook seafood really well. The prawns and crispy squid were so tender.\", \"sentimental_rating\": 4.0}], \"overall_sentimental_rating\": 4.0}]}, {\"food_id\": 27, \"food_name\": \"Milo ice cream\", \"keywords\": [\"Milo ice cream\", \"Cream\", \"Sambol\", \"ice cream\"], \"shops\": [{\"shop_name\": \"Monsoon Colombo\", \"coordinates\": [6.918444245505873, 79.85869239294959], \"comments\": [{\"text\": \"It's iconic. So creamy and milo-y. 600 or so for 2 scoops +some milo powder. I split it with my partner. Worth it.\", \"sentimental_rating\": 5.0}], \"overall_sentimental_rating\": 5.0}]}, {\"food_id\": 28, \"food_name\": \"Vegetarian rice paper roll\", \"keywords\": [\"Vegetarian rice paper roll\", \"Roll\", \"Sambol\", \"Vegetarian\", \"paper roll\"], \"shops\": [{\"shop_name\": \"Monsoon Colombo\", \"coordinates\": [6.918444245505873, 79.85869239294959], \"comments\": [{\"text\": \"it was good but the hoisin sauce was mixed with soy sauce so was salty.\", \"sentimental_rating\": 3.0}], \"overall_sentimental_rating\": 3.0}]}, {\"food_id\": 29, \"food_name\": \"Papaya Salad\", \"keywords\": [\"Papaya Salad\", \"Salad\", \"Sambol\", \"papaya Salad\"], \"shops\": [{\"shop_name\": \"Monsoon Colombo\", \"coordinates\": [6.918444245505873, 79.85869239294959], \"comments\": [{\"text\": \"The dishes we got were all very good, the only disappointment was the papaya salad. It was very SWEET :-O ! I have eaten in many Thai restaurants and have never had sweet papaya salad.\", \"sentimental_rating\": 4.0}], \"overall_sentimental_rating\": 4.0}, {\"shop_name\": \"Nara Thai\", \"coordinates\": [6.909583442982199, 79.85239137386004], \"comments\": [{\"text\": \"Papaya salad was tasty,they could have had some more tomatoes & peanuts to really make it pop. The chefs made it a perfect level of spicy ness which l appreciate.\", \"sentimental_rating\": 5.0}], \"overall_sentimental_rating\": 5.0}]}, {\"food_id\": 30, \"food_name\": \"Pineapple Magarita\", \"keywords\": [\"Magarita\", \"Pineapple\", \"Pineapple Magarita\"], \"shops\": [{\"shop_name\": \"Monsoon Colombo\", \"coordinates\": [6.918444245505873, 79.85869239294959], \"comments\": [{\"text\": \"The cocktails were great - recommend the chilli pineapple Margarita, and the Gimlet. \", \"sentimental_rating\": 5.0}], \"overall_sentimental_rating\": 5.0}]}, {\"food_id\": 31, \"food_name\": \"Mutton Curry\", \"keywords\": [\"Mutton\", \"Mutton Curry\"], \"shops\": [{\"shop_name\": \"Indian Summer Restaurant\", \"coordinates\": [6.912738418577268, 79.8541820155159], \"comments\": [{\"text\": \"Chef's special mutton curry is highly recommended. Literally melts in your mouth.\", \"sentimental_rating\": 5.0}], \"overall_sentimental_rating\": 5.0}]}, {\"food_id\": 32, \"food_name\": \"Pistachio Kulfi\", \"keywords\": [\"Pistachio Kulfi\", \"kulfi pistachio\"], \"shops\": [{\"shop_name\": \"Indian Summer Restaurant\", \"coordinates\": [6.912738418577268, 79.8541820155159], \"comments\": [{\"text\": \"I love their Pistachio Kulfi, which was an amazing.\", \"sentimental_rating\": 5.0}], \"overall_sentimental_rating\": 5.0}]}, {\"food_id\": 33, \"food_name\": \"Butter Naan\", \"keywords\": [\"naan\", \"Butter Naan\", \"butter\"], \"shops\": [{\"shop_name\": \"Indian Summer Restaurant\", \"coordinates\": [6.912738418577268, 79.8541820155159], \"comments\": [{\"text\": \"the naan was the best from everything everything. Naan with that butter just melt down in your mouth. Really enjoyed the food.\", \"sentimental_rating\": 5.0}], \"overall_sentimental_rating\": 5.0}]}, {\"food_id\": 34, \"food_name\": \"Dum- Biriyani\", \"keywords\": [\"Dum\", \"Dum biriyani\"], \"shops\": [{\"shop_name\": \"Indian Summer Restaurant\", \"coordinates\": [6.912738418577268, 79.8541820155159], \"comments\": [{\"text\": \"  Heavily disappointed by the amount of chicken that was in the Dum- Biriyani.Sadly they ve reduced the amount of chicken pieces and increased the prices as well.\", \"sentimental_rating\": 4.0}], \"overall_sentimental_rating\": 4.0}]}, {\"food_id\": 35, \"food_name\": \"Chicken Biriyani\", \"keywords\": [\"chicken\", \"chicken biryani\"], \"shops\": [{\"shop_name\": \"Indian Summer Restaurant\", \"coordinates\": [6.912738418577268, 79.8541820155159], \"comments\": [{\"text\": \"Specially chicken biryani is good with authentic biriyani flavor and also comes with good moisture.\", \"sentimental_rating\": 4.0}], \"overall_sentimental_rating\": 4.0}]}, {\"food_id\": 36, \"food_name\": \"Pani Puri\", \"keywords\": [\"Pani\", \"Pani puri\", \"puri\"], \"shops\": [{\"shop_name\": \"Indian Summer Restaurant\", \"coordinates\": [6.912738418577268, 79.8541820155159], \"comments\": [{\"text\": \"Tried Pani Puri but it is comparatively an average snack here in terms of taste and the presentation. It is not that crispy. \", \"sentimental_rating\": 3.0}], \"overall_sentimental_rating\": 3.0}]}, {\"food_id\": 37, \"food_name\": \"Brownies\", \"keywords\": [\"Brownies\", \"Brownies\", \"brownies\"], \"shops\": [{\"shop_name\": \"Indian Summer Restaurant\", \"coordinates\": [6.912738418577268, 79.8541820155159], \"comments\": [{\"text\": \"Their brownies taste just no where less than perfect!\", \"sentimental_rating\": 5.0}], \"overall_sentimental_rating\": 5.0}]}, {\"food_id\": 38, \"food_name\": \"Fish Biriyani\", \"keywords\": [\"Fish\", \"Fish biriyani\", \"fish biriani\"], \"shops\": [{\"shop_name\": \"Indian Summer Restaurant\", \"coordinates\": [6.912738418577268, 79.8541820155159], \"comments\": [{\"text\": \"It was excellent..the fish was crispy and it went well with the Biriyani rice which was also really tasty.\", \"sentimental_rating\": 5.0}], \"overall_sentimental_rating\": 5.0}]}, {\"food_id\": 39, \"food_name\": \"Egg Hoppers\", \"keywords\": [\"Egg hoppers\", \"Egg\", \"hoppers\", \"Hoppers\"], \"shops\": [{\"shop_name\": \"Palmyrah Restaurant\", \"coordinates\": [6.911921541358405, 79.85039971705802], \"comments\": [{\"text\": \"Had Thalapath Fish curry with egg hoppers. Tasty, wholesome and surprisingly was suffient for me alone. Found some sweetness in their hoppers, which is why it tastes good.\", \"sentimental_rating\": 4.0}], \"overall_sentimental_rating\": 4.0}]}, {\"food_id\": 40, \"food_name\": \"Crab Curry\", \"keywords\": [\"Crab Curry\", \"Crab\", \"CRAB\"], \"shops\": [{\"shop_name\": \"Palmyrah Restaurant\", \"coordinates\": [6.911921541358405, 79.85039971705802], \"comments\": [{\"text\": \" I was quite disappointed with the crab curry I ordered. It seemed more like crab soup, with tiny minced crab pieces, and the taste left much to be desired. Nothing even close to the great Jaffna crab curry taste.\", \"sentimental_rating\": 3.0}], \"overall_sentimental_rating\": 3.0}]}, {\"food_id\": 41, \"food_name\": \"Milk Hoppers\", \"keywords\": [\"Milk Hoppers\", \"Hopers\", \"hoppers\"], \"shops\": [{\"shop_name\": \"Palmyrah Restaurant\", \"coordinates\": [6.911921541358405, 79.85039971705802], \"comments\": [{\"text\": \"The jaggery and milk hoppers were out of this world.Iy was so good.\", \"sentimental_rating\": 4.0}], \"overall_sentimental_rating\": 4.0}]}, {\"food_id\": 42, \"food_name\": \"Rasam Soup\", \"keywords\": [\"Rasam Soup\", \"Rasam\", \"Soup\"], \"shops\": [{\"shop_name\": \"Palmyrah Restaurant\", \"coordinates\": [6.911921541358405, 79.85039971705802], \"comments\": [{\"text\": \"Their complimentary papadam and delightful rasam soup set the stage for a remarkable dining experience.\", \"sentimental_rating\": 4.0}], \"overall_sentimental_rating\": 4.0}]}, {\"food_id\": 43, \"food_name\": \"Hoppers\", \"keywords\": [\"Hoppers\", \"Hoppers\", \"hoppers\"], \"shops\": [{\"shop_name\": \"Palmyrah Restaurant\", \"coordinates\": [6.911921541358405, 79.85039971705802], \"comments\": [{\"text\": \"Their Hoppers were excellent.. it makes my mouth water just thinking of the food.\", \"sentimental_rating\": 5.0}, {\"text\": \"Used to be the place I went for good hoppers and quality Jafna food. The hoppers were cold and made with some grainy batter.\", \"sentimental_rating\": 1.0}], \"overall_sentimental_rating\": 3.0}]}, {\"food_id\": 44, \"food_name\": \"Odiyal Kool\", \"keywords\": [\"Odiyal Kool\", \"Odiyal\", \"Kool\"], \"shops\": [{\"shop_name\": \"Palmyrah Restaurant\", \"coordinates\": [6.911921541358405, 79.85039971705802], \"comments\": [{\"text\": \"This is not a odiyal kool tests , it s tastes like a sweet sauce, sugar, very disappointed \", \"sentimental_rating\": 1.0}], \"overall_sentimental_rating\": 1.0}]}, {\"food_id\": 45, \"food_name\": \"Garlic Curry\", \"keywords\": [\"Garlic Curry\", \"Garlic\", \"Curry\", \"curi\", \"galic\", \"gaalic\"], \"shops\": [{\"shop_name\": \"Palmyrah Restaurant\", \"coordinates\": [6.911921541358405, 79.85039971705802], \"comments\": [{\"text\": \"There garlic curry was NOT what I expected so water and tasteless.\", \"sentimental_rating\": 3.0}], \"overall_sentimental_rating\": 3.0}]}, {\"food_id\": 46, \"food_name\": \"Fried Fish Pittu\", \"keywords\": [\"Fried Fish Pittu\", \"Fried\", \"Pittu\"], \"shops\": [{\"shop_name\": \"Palmyrah Restaurant\", \"coordinates\": [6.911921541358405, 79.85039971705802], \"comments\": [{\"text\": \"We ordered only a modest meal but the star was undoubtedly the fried fish puttu, which was very finely made and delicious\", \"sentimental_rating\": 4.0}], \"overall_sentimental_rating\": 4.0}]}, {\"food_id\": 47, \"food_name\": \"Garlic Shrimp\", \"keywords\": [\"galic\", \"Garlic\", \"garlic shrimp\", \"shripm\", \"Shrimp\", \"Garlic Shrimp\"], \"shops\": [{\"shop_name\": \"The Gallery Caf \", \"coordinates\": [6.902522734983257, 79.8553875017821], \"comments\": [{\"text\": \"Definitely get the garlic shrimp, we ordered it multiple times\", \"sentimental_rating\": 5.0}], \"overall_sentimental_rating\": 5.0}]}, {\"food_id\": 48, \"food_name\": \"French Fries\", \"keywords\": [\"fries\", \"french\", \"french frys\", \"french fries\", \"frys\"], \"shops\": [{\"shop_name\": \"The Gallery Caf \", \"coordinates\": [6.902522734983257, 79.8553875017821], \"comments\": [{\"text\": \"My first bite was the fries and immediately I knew that these were amongst the best fries I have ever had. Really. The perfect thickness, carefully fried, lightly salted and with a rich flavor (and aroma) of potato\", \"sentimental_rating\": 4.0}], \"overall_sentimental_rating\": 4.0}]}, {\"food_id\": 49, \"food_name\": \"Spaghetti Bolognese\", \"keywords\": [\"spaghetti bolognese\", \"spaghetti\", \"Spaghetti spaghetti\", \"spaghetti bolognese\", \"spagati\", \"spaggati\"], \"shops\": [{\"shop_name\": \"The Gallery Caf \", \"coordinates\": [6.902522734983257, 79.8553875017821], \"comments\": [{\"text\": \"My only critique would be that the spaghetti bolognese didn't quite meet my expectations.\", \"sentimental_rating\": 4.0}], \"overall_sentimental_rating\": 4.0}]}, {\"food_id\": 50, \"food_name\": \"Lemon Meringue Pie\", \"keywords\": [\"meringue pie\", \"meringue\", \"Lemon meringue\", \"lemon meringue pie\"], \"shops\": [{\"shop_name\": \"The Gallery Caf \", \"coordinates\": [6.902522734983257, 79.8553875017821], \"comments\": [{\"text\": \"The real downer was the lemon meringue pie. The meringue had this egg taste which is intrusive and really makes it hard to enjoy the slice. Stomachiing it was difficult.\", \"sentimental_rating\": 4.0}], \"overall_sentimental_rating\": 4.0}]}, {\"food_id\": 51, \"food_name\": \"Pineapple Margarita\", \"keywords\": [\"pineapple margarita\", \"pineapple\", \"Pineapple pineapple\", \"pineapple margarita\"], \"shops\": [{\"shop_name\": \"The Gallery Caf \", \"coordinates\": [6.902522734983257, 79.8553875017821], \"comments\": [{\"text\": \"We really didn t enjoy the pineapple margarita, it was a thick frozen slushy with a strange flavour, rather than a crisp classic margatita. \", \"sentimental_rating\": 5.0}], \"overall_sentimental_rating\": 5.0}]}, {\"food_id\": 52, \"food_name\": \"Tom Yum soup\", \"keywords\": [\"tom soup\", \"tom yum soup\", \"yum soup\", \"soup\"], \"shops\": [{\"shop_name\": \"Nara Thai\", \"coordinates\": [6.909583442982199, 79.85239137386004], \"comments\": [{\"text\": \"I would recommend you to start off with the Tom Yum soup a good first impression to stay off with! \", \"sentimental_rating\": 4.0}], \"overall_sentimental_rating\": 4.0}]}, {\"food_id\": 53, \"food_name\": \"Vegetarian soup\", \"keywords\": [\"vegetarian soup\", \"vegetarian soup\", \"vegetarian soup\", \"soup\"], \"shops\": [{\"shop_name\": \"Nara Thai\", \"coordinates\": [6.909583442982199, 79.85239137386004], \"comments\": [{\"text\": \"The tofu pieces were huge and weren't presented well. It seemed as if they didn't care for the presentation of the food. All dishes lacked authentic flavors. \", \"sentimental_rating\": 4.0}], \"overall_sentimental_rating\": 4.0}]}, {\"food_id\": 54, \"food_name\": \"Fried Rice\", \"keywords\": [\"fried Rice\", \"fried rice\", \"fried Rice\", \"Rice\", \"\"], \"shops\": [{\"shop_name\": \"Nara Thai\", \"coordinates\": [6.909583442982199, 79.85239137386004], \"comments\": [{\"text\": \"The shared fried rice was well worth the money \", \"sentimental_rating\": 1.0}], \"overall_sentimental_rating\": 1.0}]}, {\"food_id\": 55, \"food_name\": \"Chicken Satay\", \"keywords\": [\"chicken Satay\", \"chicken satay\", \"chicken Satay\", \"Satay\"], \"shops\": [{\"shop_name\": \"Nara Thai\", \"coordinates\": [6.909583442982199, 79.85239137386004], \"comments\": [{\"text\": \"The chicken satay was so yummy and the food overall was delicious.\", \"sentimental_rating\": 5.0}], \"overall_sentimental_rating\": 5.0}]}, {\"food_id\": 56, \"food_name\": \"Chicken Fried Rice\", \"keywords\": [\"chicken Rice\", \"chicken fried rice\", \"fried Rice\", \"Rice\"], \"shops\": [{\"shop_name\": \"Nara Thai\", \"coordinates\": [6.909583442982199, 79.85239137386004], \"comments\": [{\"text\": \"The chicken fried rice was very flavorful and the chicken was cooked perfectly.\", \"sentimental_rating\": 1.0}], \"overall_sentimental_rating\": 1.0}]}, {\"food_id\": 57, \"food_name\": \"Butterfly Pea Drink\", \"keywords\": [\"butterfly Drink\", \"butterfly pea drink\", \"pea Drink\", \"Drink\"], \"shops\": [{\"shop_name\": \"Nara Thai\", \"coordinates\": [6.909583442982199, 79.85239137386004], \"comments\": [{\"text\": \"The butterfly pea drink was not only visually stunning but also incredibly refreshing.\", \"sentimental_rating\": 5.0}], \"overall_sentimental_rating\": 5.0}]}, {\"food_id\": 58, \"food_name\": \"Herbal Blue Fried Rice\", \"keywords\": [\"herbal Rice\", \"herbal blue fried rice\", \"fried Rice\", \"Rice\"], \"shops\": [{\"shop_name\": \"Nara Thai\", \"coordinates\": [6.909583442982199, 79.85239137386004], \"comments\": [{\"text\": \"The herbal blue fried rice was unique and flavorful. \", \"sentimental_rating\": 4.0}], \"overall_sentimental_rating\": 4.0}]}, {\"food_id\": 59, \"food_name\": \"Mixed Fruit Juice\", \"keywords\": [\"mixed Juice\", \"mixed fruit juice\", \"fruit Juice\", \"Juice\"], \"shops\": [{\"shop_name\": \"Nara Thai\", \"coordinates\": [6.909583442982199, 79.85239137386004], \"comments\": [{\"text\": \"That was the worst ever for a restaurant of this tier. Do not order the juices. Just water will do fine as all the juices taste the same as water. Was very disappointed with this.\", \"sentimental_rating\": 1.0}], \"overall_sentimental_rating\": 1.0}]}, {\"food_id\": 60, \"food_name\": \"Chicken Chapati Wrap\", \"keywords\": [\"Chicken Chapati Wrap\", \"chapathi\", \"chapathi wrap\"], \"shops\": [{\"shop_name\": \"Paan Paan - Havelock Road\", \"coordinates\": [6.898914955562731, 79.86055503977914], \"comments\": [{\"text\": \"These guys have wrapped the chicken chapati wrap in a soft paper where it has been smudged due to heavy rain. If u can't do proper packaging please do not do delivery during rain. \", \"sentimental_rating\": 5.0}], \"overall_sentimental_rating\": 5.0}]}, {\"food_id\": 61, \"food_name\": \"Submarine\", \"keywords\": [\"Submarine\", \"sabmarine\"], \"shops\": [{\"shop_name\": \"Paan Paan - Havelock Road\", \"coordinates\": [6.898914955562731, 79.86055503977914], \"comments\": [{\"text\": \"Today I ordered a submarine from Paan Paan and I am impressed with the quality and the taste.\", \"sentimental_rating\": 1.0}, {\"text\": \"My meal was a submarine with grilled vegetables and feta cheese. The feta was invisible! Absolutely no feta cheese! If you can't supply the customer with the specified order,  then notify them or cancel. Very disappointing.\", \"sentimental_rating\": 1.0}, {\"text\": \"it s good for drunken person ..hot and spicy means a lot for the word..also no chicken at all....chicken crushed and cut in to pieces and not visible or cannot taste ..Just simply waste of money ..\", \"sentimental_rating\": 1.0}, {\"text\": \"Love their sandwiches, specially the smoked beef. \", \"sentimental_rating\": 5.0}, {\"text\": \"The submarines got too many seeds on the bread many avoid the brown bread.I'm not satisfied with that submarine.\", \"sentimental_rating\": 5.0}], \"overall_sentimental_rating\": 2.6}]}, {\"food_id\": 62, \"food_name\": \"Sandwiches\", \"keywords\": [\"Sandwiches\", \"sanwich\", \"sandwiches\"], \"shops\": [{\"shop_name\": \"Paan Paan - Havelock Road\", \"coordinates\": [6.898914955562731, 79.86055503977914], \"comments\": [{\"text\": \"Ordered some sandwiches from this cafe, they were good. They included a variety of flavours.\", \"sentimental_rating\": 5.0}, {\"text\": \"The sandwich was made fresh to order. I would definitely recommend Paan Paan to anyone looking for delicious and satisfying sandwiches in the area.\", \"sentimental_rating\": 5.0}], \"overall_sentimental_rating\": 5.0}]}, {\"food_id\": 63, \"food_name\": \"BBQ Chicken Sandwich\", \"keywords\": [\"BBQ Chicken Sandwich\"], \"shops\": [{\"shop_name\": \"Paan Paan - Havelock Road\", \"coordinates\": [6.898914955562731, 79.86055503977914], \"comments\": [{\"text\": \"Ordered a BBQ Chicken sandwich from paan paan, the taste and the quality is just awesome. The packaging is also good.\", \"sentimental_rating\": 5.0}], \"overall_sentimental_rating\": 5.0}]}, {\"food_id\": 64, \"food_name\": \"Fish Cutlets\", \"keywords\": [\"Fish Cutlets\", \"Cutlets\"], \"shops\": [{\"shop_name\": \"Paan Paan - Havelock Road\", \"coordinates\": [6.898914955562731, 79.86055503977914], \"comments\": [{\"text\": \"The cutlet filling is full of potatoes,  I don't see any fish taste while eating\", \"sentimental_rating\": 4.0}], \"overall_sentimental_rating\": 4.0}]}, {\"food_id\": 65, \"food_name\": \"BBQ Submarine\", \"keywords\": [\"BBQ Submarine\", \"BBQ\", \"sabmarine\"], \"shops\": [{\"shop_name\": \"Paan Paan - Havelock Road\", \"coordinates\": [6.898914955562731, 79.86055503977914], \"comments\": [{\"text\": \"Their BBQ submarine is my personal favorite.It's super tasty and the flavors are just amazing.\", \"sentimental_rating\": 5.0}], \"overall_sentimental_rating\": 5.0}]}, {\"food_id\": 66, \"food_name\": \"Cinnamon Roll\", \"keywords\": [\"Cinnamon Roll\"], \"shops\": [{\"shop_name\": \"Paan Paan - Havelock Road\", \"coordinates\": [6.898914955562731, 79.86055503977914], \"comments\": [{\"text\": \"The worst was the Cinnamon Roll. Never try them out. Needs lot of improvement on food.\", \"sentimental_rating\": 1.0}], \"overall_sentimental_rating\": 1.0}]}, {\"food_id\": 67, \"food_name\": \"Tasmania Salmon\", \"keywords\": [\"Tasmania Salmon\", \"Salmon\", \"Samon\", \"Samen\"], \"shops\": [{\"shop_name\": \"The London Grill\", \"coordinates\": [6.92149913246634, 79.84870918616843], \"comments\": [{\"text\": \"All these 5 - 6 years, I stick with the Tasmania Salmon, don t know how they do that! The taste didn t change at all, so good!\", \"sentimental_rating\": 5.0}], \"overall_sentimental_rating\": 5.0}]}, {\"food_id\": 68, \"food_name\": \"Steak\", \"keywords\": [\"Steak\", \"steak\"], \"shops\": [{\"shop_name\": \"The London Grill\", \"coordinates\": [6.92149913246634, 79.84870918616843], \"comments\": [{\"text\": \"The quality of the meat was not great.The steak also had no crust and was not cooked in enough fat.\", \"sentimental_rating\": 4.0}, {\"text\": \"It is difficult to find a good steak in Colombo and this is one of the best ones.It's so yummy.\", \"sentimental_rating\": 5.0}, {\"text\": \" I don't know if it was because the seasoning was strong or if it was the pepper sauce itself, but it was a bit too salty to eat.\", \"sentimental_rating\": 4.0}], \"overall_sentimental_rating\": 4.333333333333333}]}, {\"food_id\": 69, \"food_name\": \"Chicken Mouse\", \"keywords\": [\"Chicken Mouse\", \"chicken mouse\"], \"shops\": [{\"shop_name\": \"The London Grill\", \"coordinates\": [6.92149913246634, 79.84870918616843], \"comments\": [{\"text\": \"The chicken mouse was tasteless.So dissapointed with that.\", \"sentimental_rating\": 1.0}], \"overall_sentimental_rating\": 1.0}]}, {\"food_id\": 70, \"food_name\": \"Rib Eye Steak\", \"keywords\": [\"Rib Eye Steak\", \"rib eye steak\", \"rib\"], \"shops\": [{\"shop_name\": \"The London Grill\", \"coordinates\": [6.92149913246634, 79.84870918616843], \"comments\": [{\"text\": \"Best steak in town. Ordered a medium rare rib eye steak and it was delicious\", \"sentimental_rating\": 5.0}], \"overall_sentimental_rating\": 5.0}]}, {\"food_id\": 71, \"food_name\": \"Bush Lamb\", \"keywords\": [\"Bush Lamb\", \"bush lamb\", \"bush\"], \"shops\": [{\"shop_name\": \"The London Grill\", \"coordinates\": [6.92149913246634, 79.84870918616843], \"comments\": [{\"text\": \"The Bush Lamb is not worth the price. The portion was too small for the price charged for it.\", \"sentimental_rating\": 5.0}], \"overall_sentimental_rating\": 5.0}]}]\n"
          ]
        }
      ]
    }
  ],
  "metadata": {
    "accelerator": "GPU",
    "colab": {
      "gpuType": "T4",
      "provenance": []
    },
    "kernelspec": {
      "display_name": "Python 3",
      "name": "python3"
    },
    "language_info": {
      "codemirror_mode": {
        "name": "ipython",
        "version": 3
      },
      "file_extension": ".py",
      "mimetype": "text/x-python",
      "name": "python",
      "nbconvert_exporter": "python",
      "pygments_lexer": "ipython3",
      "version": "3.12.1"
    }
  },
  "nbformat": 4,
  "nbformat_minor": 0
}